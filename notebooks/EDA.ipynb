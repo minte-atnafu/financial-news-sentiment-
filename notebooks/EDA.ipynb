{
 "cells": [
  {
   "cell_type": "code",
   "execution_count": 32,
   "id": "61d21aa2",
   "metadata": {},
   "outputs": [],
   "source": [
    "import pandas as pd\n",
    "import nltk\n",
    "from nltk.tokenize import word_tokenize\n",
    "from nltk.corpus import stopwords\n",
    "import matplotlib.pyplot as plt\n",
    "import seaborn as sns\n",
    "from collections import Counter\n",
    "import os\n",
    "import sys"
   ]
  },
  {
   "cell_type": "code",
   "execution_count": 33,
   "id": "3d739096",
   "metadata": {},
   "outputs": [
    {
     "name": "stdout",
     "output_type": "stream",
     "text": [
      "Current working directory: c:\\Users\\mintesinot\\financial-news-analysis\\notebooks\n"
     ]
    }
   ],
   "source": [
    "print(\"Current working directory:\", os.getcwd())\n"
   ]
  },
  {
   "cell_type": "code",
   "execution_count": 2,
   "id": "c8b8e482",
   "metadata": {},
   "outputs": [
    {
     "data": {
      "text/plain": [
       "True"
      ]
     },
     "execution_count": 2,
     "metadata": {},
     "output_type": "execute_result"
    }
   ],
   "source": [
    "nltk.download('punkt', quiet=True)\n",
    "nltk.download('stopwords', quiet=True)"
   ]
  },
  {
   "cell_type": "code",
   "execution_count": 25,
   "id": "4c7227e3",
   "metadata": {},
   "outputs": [],
   "source": [
    "def load_data(file_path=r'C:\\Users\\mintesinot\\financial-news-analysis\\data\\raw_analyst_ratings.csv'):\n",
    "\n",
    "    \"\"\"Load the analyst rating dataset from a CSV file.\n",
    "    \n",
    "    Args:\n",
    "        file_path (str): Path to the CSV file (default: 'data/raw_analyst_rating.csv').\n",
    "    \n",
    "    Returns:\n",
    "        pd.DataFrame: Loaded DataFrame.\n",
    "    \n",
    "    Raises:\n",
    "        FileNotFoundError: If the file or directory is not found.\n",
    "        ValueError: If data loading fails.\n",
    "    \"\"\"\n",
    "    data_dir = os.path.dirname(file_path)\n",
    "    if not os.path.exists(data_dir):\n",
    "        raise FileNotFoundError(f\"Data directory '{data_dir}' not found. Please create it and place 'raw_analyst_rating.csv' there.\")\n",
    "    if not os.path.exists(file_path):\n",
    "        raise FileNotFoundError(f\"File '{file_path}' not found in '{data_dir}'. Please check the path.\")\n",
    "    \n",
    "    try:\n",
    "        df = pd.read_csv(file_path)\n",
    "        expected_columns = ['headline', 'publisher', 'date', 'stock']\n",
    "        missing_columns = [col for col in expected_columns if col not in df.columns]\n",
    "        if missing_columns:\n",
    "            print(f\"Warning: Missing expected columns {missing_columns}. Available columns: {list(df.columns)}\")\n",
    "        return df\n",
    "    except Exception as e:\n",
    "        raise ValueError(f\"Error loading data from '{file_path}': {str(e)}\")"
   ]
  },
  {
   "cell_type": "code",
   "execution_count": 27,
   "id": "e505086b",
   "metadata": {},
   "outputs": [],
   "source": [
    "def descriptive_stats(df):\n",
    "    \"\"\"Compute descriptive statistics for headline lengths and article counts.\n",
    "    \n",
    "    Args:\n",
    "        df (pd.DataFrame): Input DataFrame with 'headline' and 'publisher' columns.\n",
    "    \n",
    "    Returns:\n",
    "        tuple: Descriptive statistics of headline lengths and publisher article counts.\n",
    "    \"\"\"\n",
    "    if 'headline' not in df.columns:\n",
    "        raise ValueError(f\"Column 'headline' not found in dataset. Available columns: {list(df.columns)}\")\n",
    "    \n",
    "    # Compute headline length, handling non-string values\n",
    "    df['headline_length'] = df['headline'].apply(lambda x: len(str(x)))\n",
    "    stats = df['headline_length'].describe()\n",
    "    print(\"Headline Length Statistics:\")\n",
    "    print(stats)\n",
    "    \n",
    "    # Count articles per publisher\n",
    "    publisher_counts = None\n",
    "    if 'publisher' in df.columns:\n",
    "        publisher_counts = df['publisher'].value_counts()\n",
    "        print(\"\\nArticles per Publisher (Top 10):\")\n",
    "        print(publisher_counts.head(10))\n",
    "    else:\n",
    "        print(\"Warning: 'publisher' column not found. Skipping publisher counts.\")\n",
    "    \n",
    "    return stats, publisher_counts"
   ]
  },
  {
   "cell_type": "code",
   "execution_count": 28,
   "id": "2bac9a05",
   "metadata": {},
   "outputs": [],
   "source": [
    "\n",
    "def time_series_analysis(df):\n",
    "    \"\"\"Analyze publication frequency over time.\n",
    "    \n",
    "    Args:\n",
    "        df (pd.DataFrame): Input DataFrame with 'date' column.\n",
    "    \n",
    "    Returns:\n",
    "        pd.Series: Daily article counts.\n",
    "    \"\"\"\n",
    "    if 'date' not in df.columns:\n",
    "        raise ValueError(f\"Column 'date' not found in dataset. Available columns: {list(df.columns)}\")\n",
    "    \n",
    "    try:\n",
    "        df['date'] = pd.to_datetime(df['date'], utc=True, errors='coerce')\n",
    "        if df['date'].isna().all():\n",
    "            raise ValueError(\"All 'date' values are invalid or could not be parsed.\")\n",
    "        df['date_only'] = df['date'].dt.date\n",
    "    except Exception as e:\n",
    "        raise ValueError(f\"Error converting 'date' column to datetime: {str(e)}\")\n",
    "    \n",
    "    daily_counts = df.groupby('date_only').size()\n",
    "    \n",
    "    plt.figure(figsize=(12, 6))\n",
    "    daily_counts.plot(color='#1f77b4')\n",
    "    plt.title('Article Publication Frequency Over Time')\n",
    "    plt.xlabel('Date')\n",
    "    plt.ylabel('Number of Articles')\n",
    "    plt.grid(True, linestyle='--', alpha=0.7)\n",
    "    plt.savefig('outputs/publication_frequency.png', dpi=300)\n",
    "    plt.close()\n",
    "    \n",
    "    return daily_counts"
   ]
  },
  {
   "cell_type": "code",
   "execution_count": 29,
   "id": "2420a6ad",
   "metadata": {},
   "outputs": [],
   "source": [
    "def text_analysis(df):\n",
    "    \"\"\"Perform text analysis on headlines to identify common words.\n",
    "    \n",
    "    Args:\n",
    "        df (pd.DataFrame): Input DataFrame with 'headline' column.\n",
    "    \n",
    "    Returns:\n",
    "        list: Top 20 most common words and their counts.\n",
    "    \"\"\"\n",
    "    if 'headline' not in df.columns:\n",
    "        raise ValueError(f\"Column 'headline' not found in dataset. Available columns: {list(df.columns)}\")\n",
    "    \n",
    "    stop_words = set(stopwords.words('english'))\n",
    "    all_words = []\n",
    "    \n",
    "    for headline in df['headline']:\n",
    "        if not isinstance(headline, str):\n",
    "            continue\n",
    "        words = word_tokenize(str(headline).lower())\n",
    "        words = [w for w in words if w.isalpha() and w not in stop_words]\n",
    "        all_words.extend(words)\n",
    "    \n",
    "    word_freq = Counter(all_words)\n",
    "    common_words = word_freq.most_common(20)\n",
    "    \n",
    "    plt.figure(figsize=(12, 6))\n",
    "    sns.barplot(x=[count for word, count in common_words], \n",
    "                y=[word for word, count in common_words], \n",
    "                hue=[word for word, count in common_words], \n",
    "                palette='viridis', \n",
    "                legend=False)\n",
    "    plt.title('Top 20 Common Words in Headlines')\n",
    "    plt.xlabel('Frequency')\n",
    "    plt.ylabel('Word')\n",
    "    plt.savefig('outputs/common_words.png', dpi=300)\n",
    "    plt.close()\n",
    "    \n",
    "    return common_words"
   ]
  },
  {
   "cell_type": "code",
   "execution_count": 30,
   "id": "141d292f",
   "metadata": {},
   "outputs": [],
   "source": [
    "def publisher_domain_analysis(df):\n",
    "    \"\"\"Analyze unique domains from publisher emails.\n",
    "    \n",
    "    Args:\n",
    "        df (pd.DataFrame): Input DataFrame with 'publisher' column.\n",
    "    \n",
    "    Returns:\n",
    "        pd.Series: Counts of articles per publisher domain.\n",
    "    \"\"\"\n",
    "    if 'publisher' not in df.columns:\n",
    "        print(f\"Warning: 'publisher' column not found. Skipping domain analysis. Available columns: {list(df.columns)}\")\n",
    "        return None\n",
    "    \n",
    "    df['domain'] = df['publisher'].str.extract(r'@([\\w\\.-]+)')\n",
    "    domain_counts = df['domain'].value_counts()\n",
    "    \n",
    "    if domain_counts.empty:\n",
    "        print(\"No valid domains extracted from publisher column.\")\n",
    "        return domain_counts\n",
    "    \n",
    "    plt.figure(figsize=(12, 6))\n",
    "    domain_counts.head(10).plot(kind='bar', color='#2ca02c')\n",
    "    plt.title('Top 10 Publisher Domains')\n",
    "    plt.xlabel('Domain')\n",
    "    plt.ylabel('Number of Articles')\n",
    "    plt.xticks(rotation=45, ha='right')\n",
    "    plt.tight_layout()\n",
    "    plt.savefig('outputs/publisher_domains.png', dpi=300)\n",
    "    plt.close()\n",
    "    \n",
    "    return domain_counts"
   ]
  },
  {
   "cell_type": "code",
   "execution_count": 31,
   "id": "d99ce133",
   "metadata": {},
   "outputs": [
    {
     "name": "stdout",
     "output_type": "stream",
     "text": [
      "Headline Length Statistics:\n",
      "count    1.407328e+06\n",
      "mean     7.312051e+01\n",
      "std      4.073531e+01\n",
      "min      3.000000e+00\n",
      "25%      4.700000e+01\n",
      "50%      6.400000e+01\n",
      "75%      8.700000e+01\n",
      "max      5.120000e+02\n",
      "Name: headline_length, dtype: float64\n",
      "\n",
      "Articles per Publisher (Top 10):\n",
      "publisher\n",
      "Paul Quintaro        228373\n",
      "Lisa Levin           186979\n",
      "Benzinga Newsdesk    150484\n",
      "Charles Gross         96732\n",
      "Monica Gerson         82380\n",
      "Eddie Staley          57254\n",
      "Hal Lindon            49047\n",
      "ETF Professor         28489\n",
      "Juan Lopez            28438\n",
      "Benzinga Staff        28114\n",
      "Name: count, dtype: int64\n",
      "\n",
      "EDA Completed. Visualizations saved as PNG files in the 'outputs' directory.\n"
     ]
    }
   ],
   "source": [
    "if __name__ == \"__main__\":\n",
    "    # Create outputs directory if it doesn't exist\n",
    "    os.makedirs('outputs', exist_ok=True)\n",
    "    \n",
    "    try:\n",
    "        df = load_data()\n",
    "        stats, publisher_counts = descriptive_stats(df)\n",
    "        daily_counts = time_series_analysis(df)\n",
    "        common_words = text_analysis(df)\n",
    "        domain_counts = publisher_domain_analysis(df)\n",
    "        print(\"\\nEDA Completed. Visualizations saved as PNG files in the 'outputs' directory.\")\n",
    "    except Exception as e:\n",
    "        print(f\"Error during EDA: {str(e)}\")"
   ]
  },
  {
   "cell_type": "code",
   "execution_count": 23,
   "id": "eb1e9f24",
   "metadata": {},
   "outputs": [
    {
     "name": "stdout",
     "output_type": "stream",
     "text": [
      "False\n"
     ]
    }
   ],
   "source": [
    "import os\n",
    "print(os.path.exists(r'C:\\Users\\mintesinot\\financial-news-analysis\\data\\raw_analyst_rating.csv'))\n"
   ]
  }
 ],
 "metadata": {
  "kernelspec": {
   "display_name": "venv",
   "language": "python",
   "name": "python3"
  },
  "language_info": {
   "codemirror_mode": {
    "name": "ipython",
    "version": 3
   },
   "file_extension": ".py",
   "mimetype": "text/x-python",
   "name": "python",
   "nbconvert_exporter": "python",
   "pygments_lexer": "ipython3",
   "version": "3.12.6"
  }
 },
 "nbformat": 4,
 "nbformat_minor": 5
}
