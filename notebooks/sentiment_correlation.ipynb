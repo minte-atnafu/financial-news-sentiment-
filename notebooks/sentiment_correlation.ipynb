{
 "cells": [
  {
   "cell_type": "code",
   "execution_count": 30,
   "id": "e14ba091",
   "metadata": {},
   "outputs": [],
   "source": [
    "import os\n",
    "import pandas as pd\n",
    "import numpy as np\n",
    "from textblob import TextBlob\n",
    "from scipy.stats import pearsonr"
   ]
  },
  {
   "cell_type": "code",
   "execution_count": 31,
   "id": "706d3c3c",
   "metadata": {},
   "outputs": [],
   "source": [
    "def load_news_data(news_path):\n",
    "    \"\"\"Load and preprocess news data.\"\"\"\n",
    "    news_df = pd.read_csv(news_path)\n",
    "\n",
    "    # Convert 'date' column to datetime safely\n",
    "    news_df['date'] = pd.to_datetime(news_df['date'], errors='coerce')\n",
    "    news_df.dropna(subset=['date'], inplace=True)\n",
    "    news_df['date'] = news_df['date'].dt.date\n",
    "\n",
    "    return news_df\n"
   ]
  },
  {
   "cell_type": "code",
   "execution_count": 32,
   "id": "80948f30",
   "metadata": {},
   "outputs": [],
   "source": [
    "def load_stock_data(stock_path):\n",
    "    \"\"\"Load and preprocess individual stock data.\"\"\"\n",
    "    df = pd.read_csv(stock_path)\n",
    "    df['Date'] = pd.to_datetime(df['Date'], errors='coerce').dt.date\n",
    "    df = df.dropna(subset=['Date', 'Close'])  # Ensure we drop rows with missing price or date\n",
    "    df['Daily_Return'] = df['Close'].pct_change() * 100  # % return\n",
    "    return df"
   ]
  },
  {
   "cell_type": "code",
   "execution_count": 33,
   "id": "3f4ede07",
   "metadata": {},
   "outputs": [],
   "source": [
    "def perform_sentiment_analysis(news_df):\n",
    "    \"\"\"Perform sentiment analysis on news headlines.\"\"\"\n",
    "    news_df['sentiment'] = news_df['headline'].astype(str).apply(lambda x: TextBlob(x).sentiment.polarity)\n",
    "    return news_df\n"
   ]
  },
  {
   "cell_type": "code",
   "execution_count": 35,
   "id": "e00e2573",
   "metadata": {},
   "outputs": [],
   "source": [
    "def correlation_analysis(news_df, stock_df, stock_symbol):\n",
    "    \"\"\"Calculate correlation between sentiment and stock returns.\"\"\"\n",
    "    news_for_stock = news_df[news_df['stock'] == stock_symbol]\n",
    "\n",
    "    if news_for_stock.empty:\n",
    "        print(f\"⚠️ No news found for {stock_symbol}\")\n",
    "        return None, None, None\n",
    "\n",
    "    # Aggregate daily sentiment\n",
    "    daily_sentiment = news_for_stock.groupby('date')['sentiment'].mean().reset_index()\n",
    "\n",
    "    # Merge with stock data\n",
    "    merged_df = pd.merge(daily_sentiment, stock_df, left_on='date', right_on='Date')\n",
    "\n",
    "    if len(merged_df) < 2:\n",
    "        print(f\"⚠️ Not enough overlapping data to compute correlation for {stock_symbol}\")\n",
    "        return None, None, None\n",
    "\n",
    "    correlation, p_value = pearsonr(merged_df['sentiment'], merged_df['Daily_Return'].fillna(0))\n",
    "    print(f\"📊 {stock_symbol}: Pearson Correlation = {correlation:.4f}, P-value = {p_value:.4f}\")\n",
    "    return merged_df, correlation, p_value"
   ]
  },
  {
   "cell_type": "code",
   "execution_count": 38,
   "id": "8267605b",
   "metadata": {},
   "outputs": [
    {
     "name": "stdout",
     "output_type": "stream",
     "text": [
      "✅ Stock symbols found in news data: ['A' 'AA' 'AAC' ... 'ZU' 'ZUMZ' 'ZX']\n",
      "📊 AAPL: Pearson Correlation = -1.0000, P-value = 1.0000\n",
      "📊 AMZN: Pearson Correlation = -1.0000, P-value = 1.0000\n",
      "📊 GOOG: Pearson Correlation = -0.0894, P-value = 0.8863\n",
      "⚠️ No news found for META\n",
      "⚠️ No news found for MSFT\n",
      "📊 NVDA: Pearson Correlation = 0.1757, P-value = 0.8243\n",
      "⚠️ Not enough overlapping data to compute correlation for TSLA\n"
     ]
    }
   ],
   "source": [
    "if __name__ == \"__main__\":\n",
    "    script_dir = os.path.dirname(os.path.abspath(__file__)) if '__file__' in globals() else os.getcwd()\n",
    "    news_path = os.path.join(script_dir,'..', 'data', 'raw_analyst_ratings.csv')\n",
    "    stock_folder = os.path.join(script_dir,'..', 'yfinance_data')\n",
    "\n",
    "    news_df = load_news_data(news_path)\n",
    "    news_df = perform_sentiment_analysis(news_df)\n",
    "\n",
    "    print(\"✅ Stock symbols found in news data:\", news_df['stock'].unique())\n",
    "\n",
    "    for filename in os.listdir(stock_folder):\n",
    "        if filename.endswith('.csv'):\n",
    "            # Normalize stock symbol\n",
    "            stock_symbol = filename.replace('.csv', '').replace('_historical_data', '')\n",
    "            stock_path = os.path.join(stock_folder, filename)\n",
    "\n",
    "            try:\n",
    "                stock_df = load_stock_data(stock_path)\n",
    "                merged_df, corr, pval = correlation_analysis(news_df, stock_df, stock_symbol)\n",
    "            except Exception as e:\n",
    "                print(f\"❌ Error processing {stock_symbol}: {str(e)}\")"
   ]
  }
 ],
 "metadata": {
  "kernelspec": {
   "display_name": "venv",
   "language": "python",
   "name": "python3"
  },
  "language_info": {
   "codemirror_mode": {
    "name": "ipython",
    "version": 3
   },
   "file_extension": ".py",
   "mimetype": "text/x-python",
   "name": "python",
   "nbconvert_exporter": "python",
   "pygments_lexer": "ipython3",
   "version": "3.12.6"
  }
 },
 "nbformat": 4,
 "nbformat_minor": 5
}
