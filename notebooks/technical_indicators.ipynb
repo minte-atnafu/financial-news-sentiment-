{
 "cells": [
  {
   "cell_type": "code",
   "execution_count": 33,
   "id": "e3aa5e15",
   "metadata": {},
   "outputs": [],
   "source": [
    "import os\n",
    "import pandas as pd\n",
    "from finta import TA\n",
    "import matplotlib.pyplot as plt"
   ]
  },
  {
   "cell_type": "code",
   "execution_count": 34,
   "id": "2d70da40",
   "metadata": {},
   "outputs": [],
   "source": [
    "def load_stock_data(file_path):\n",
    "    \"\"\"Load stock price data from CSV.\"\"\"\n",
    "    df = pd.read_csv(file_path, parse_dates=['Date'])\n",
    "    df.sort_values('Date', inplace=True)\n",
    "    return df"
   ]
  },
  {
   "cell_type": "code",
   "execution_count": 35,
   "id": "b58225d0",
   "metadata": {},
   "outputs": [],
   "source": [
    "def calculate_technical_indicators(df):\n",
    "    \"\"\"Calculate technical indicators using FinTA.\"\"\"\n",
    "    df['SMA_20'] = TA.SMA(df, period=20)\n",
    "    df['EMA_20'] = TA.EMA(df, period=20)\n",
    "    df['RSI'] = TA.RSI(df, period=14)\n",
    "    \n",
    "    macd = TA.MACD(df)\n",
    "    df['MACD'] = macd['MACD']\n",
    "    df['MACD_Signal'] = macd['SIGNAL']\n",
    "    df['MACD_Hist'] = macd['MACD'] - macd['SIGNAL']\n",
    "    \n",
    "    return df"
   ]
  },
  {
   "cell_type": "code",
   "execution_count": 38,
   "id": "a73a9fca",
   "metadata": {},
   "outputs": [],
   "source": [
    "def visualize_indicators(df, stock_symbol):\n",
    "    \"\"\"Visualize technical indicators and save plot as PNG.\"\"\"\n",
    "    plt.figure(figsize=(14, 10))\n",
    "\n",
    "    # Price and MAs\n",
    "    plt.subplot(3, 1, 1)\n",
    "    plt.plot(df['Date'], df['Close'], label='Close Price')\n",
    "    plt.plot(df['Date'], df['SMA_20'], label='SMA 20')\n",
    "    plt.plot(df['Date'], df['EMA_20'], label='EMA 20')\n",
    "    plt.title(f'{stock_symbol} Stock Price and Moving Averages')\n",
    "    plt.legend()\n",
    "\n",
    "    # RSI\n",
    "    plt.subplot(3, 1, 2)\n",
    "    plt.plot(df['Date'], df['RSI'], label='RSI')\n",
    "    plt.axhline(70, linestyle='--', color='r', alpha=0.5)\n",
    "    plt.axhline(30, linestyle='--', color='g', alpha=0.5)\n",
    "    plt.title('Relative Strength Index (RSI)')\n",
    "    plt.legend()\n",
    "\n",
    "    # MACD\n",
    "    plt.subplot(3, 1, 3)\n",
    "    plt.plot(df['Date'], df['MACD'], label='MACD')\n",
    "    plt.plot(df['Date'], df['MACD_Signal'], label='Signal Line')\n",
    "    plt.bar(df['Date'], df['MACD_Hist'], label='MACD Histogram', alpha=0.5)\n",
    "    plt.title('MACD')\n",
    "    plt.legend()\n",
    "\n",
    "    plt.tight_layout()\n",
    "    output_dir = 'outputs'\n",
    "    os.makedirs(output_dir, exist_ok=True)\n",
    "    plt.savefig(f'{output_dir}/{stock_symbol}_indicators.png')\n",
    "    plt.close()"
   ]
  },
  {
   "cell_type": "code",
   "execution_count": 39,
   "id": "2e08877a",
   "metadata": {},
   "outputs": [
    {
     "name": "stdout",
     "output_type": "stream",
     "text": [
      "✅ Found data folder at: C:\\Users\\mintesinot\\financial-news-analysis\\yfinance_data\n",
      "📈 Processing AAPL_historical_data...\n",
      "✅ Done: outputs/AAPL_historical_data_indicators.png\n",
      "📈 Processing AMZN_historical_data...\n",
      "✅ Done: outputs/AMZN_historical_data_indicators.png\n",
      "📈 Processing GOOG_historical_data...\n",
      "✅ Done: outputs/GOOG_historical_data_indicators.png\n",
      "📈 Processing META_historical_data...\n",
      "✅ Done: outputs/META_historical_data_indicators.png\n",
      "📈 Processing MSFT_historical_data...\n",
      "✅ Done: outputs/MSFT_historical_data_indicators.png\n",
      "📈 Processing NVDA_historical_data...\n",
      "✅ Done: outputs/NVDA_historical_data_indicators.png\n",
      "📈 Processing TSLA_historical_data...\n",
      "✅ Done: outputs/TSLA_historical_data_indicators.png\n"
     ]
    }
   ],
   "source": [
    "if __name__ == \"__main__\":\n",
    "    # Get the script's directory (where the .py file is)\n",
    "    script_dir = os.path.dirname(os.path.abspath(__file__)) if '__file__' in globals() else os.getcwd()\n",
    "    \n",
    "    # Look for data in a sibling folder (../yfinance_data from script location)\n",
    "    data_folder = r'C:\\Users\\mintesinot\\financial-news-analysis\\yfinance_data'  # Normalize path\n",
    "    \n",
    "    if not os.path.exists(data_folder):\n",
    "        print(f\"❌ Data folder not found at: {data_folder}\")\n",
    "        print(\"Please ensure:\")\n",
    "        print(\"1. The 'yfinance_data' folder exists\")\n",
    "        print(\"2. It contains your stock CSV files\")\n",
    "        print(\"3. It's in the correct location relative to your script\")\n",
    "    else:\n",
    "        print(f\"✅ Found data folder at: {data_folder}\")\n",
    "        for filename in os.listdir(data_folder):\n",
    "            if filename.endswith('.csv'):\n",
    "                file_path = os.path.join(data_folder, filename)\n",
    "                stock_symbol = filename.replace('.csv', '')\n",
    "                try:\n",
    "                    print(f\"📈 Processing {stock_symbol}...\")\n",
    "                    df = load_stock_data(file_path)\n",
    "                    df = calculate_technical_indicators(df)\n",
    "                    visualize_indicators(df, stock_symbol)\n",
    "                    print(f\"✅ Done: outputs/{stock_symbol}_indicators.png\")\n",
    "                except Exception as e:\n",
    "                    print(f\"❌ Error processing {stock_symbol}: {str(e)}\")\n"
   ]
  }
 ],
 "metadata": {
  "kernelspec": {
   "display_name": "venv",
   "language": "python",
   "name": "python3"
  },
  "language_info": {
   "codemirror_mode": {
    "name": "ipython",
    "version": 3
   },
   "file_extension": ".py",
   "mimetype": "text/x-python",
   "name": "python",
   "nbconvert_exporter": "python",
   "pygments_lexer": "ipython3",
   "version": "3.12.6"
  }
 },
 "nbformat": 4,
 "nbformat_minor": 5
}
